{
 "cells": [
  {
   "cell_type": "code",
   "execution_count": null,
   "metadata": {
    "_cell_guid": "b1076dfc-b9ad-4769-8c92-a6c4dae69d19",
    "_uuid": "8f2839f25d086af736a60e9eeb907d3b93b6e0e5"
   },
   "outputs": [],
   "source": [
    "import numpy as np # linear algebra\n",
    "import pandas as pd # data processing, CSV file I/O (e.g. pd.read_csv)\n",
    "import matplotlib.pyplot as plt\n",
    "%matplotlib inline\n",
    "import cv2\n",
    "import os\n",
    "from ipywidgets import widgets\n",
    "from ipywidgets import interact\n",
    "from ipywidgets.widgets import *"
   ]
  },
  {
   "cell_type": "code",
   "execution_count": null,
   "metadata": {
    "_cell_guid": "79c7e3d0-c299-4dcb-8224-4455121ee9b0",
    "_uuid": "d629ff2d2480ee46fbb7e2d37f6b5fab8052498a"
   },
   "outputs": [],
   "source": [
    "train = pd.read_csv('train/train.csv')"
   ]
  },
  {
   "cell_type": "markdown",
   "metadata": {},
   "source": [
    "## Data Annotation Tool"
   ]
  },
  {
   "cell_type": "code",
   "execution_count": null,
   "metadata": {},
   "outputs": [],
   "source": [
    "image_paths = pd.read_csv(\"train/train.csv\").image\n",
    "image_paths = image_paths.apply(lambda x: os.path.join(\"train\", \"images\", x))"
   ]
  },
  {
   "cell_type": "code",
   "execution_count": null,
   "metadata": {},
   "outputs": [],
   "source": [
    "smoke_labels = [\"no smoke\"] * len(image_paths) # naively assume all ships to be without visible smoke to begin with"
   ]
  },
  {
   "cell_type": "code",
   "execution_count": null,
   "metadata": {},
   "outputs": [],
   "source": [
    "b_next = widgets.Button(description=\"next\")\n",
    "b_prev = widgets.Button(description=\"prev\")\n",
    "int_slider = widgets.IntSlider(value=0, min=0, max=len(image_paths))\n",
    "button_box = HBox([b_prev, b_next])\n",
    "\n",
    "smoke_buttons = widgets.RadioButtons(index=0, options=[\"no smoke\", \"smoke\"])\n",
    "\n",
    "ui = VBox([button_box, int_slider, smoke_buttons])\n",
    "\n",
    "@b_next.on_click\n",
    "def _on_click(b_next):\n",
    "    smoke_labels[int_slider.value] = smoke_buttons.value\n",
    "    backup = pd.Series(smoke_labels)\n",
    "    backup.to_csv('backup_labels')\n",
    "    array = np.array(smoke_labels)\n",
    "    int_slider.value += 1\n",
    "    \n",
    "@b_prev.on_click\n",
    "def _on_click(b_prev):\n",
    "    int_slider.value -= 1\n",
    "    \n",
    "def _interact(idx):\n",
    "    image = cv2.imread(image_paths[idx], -1)\n",
    "    image = cv2.cvtColor(image, cv2.COLOR_BGR2RGB)\n",
    "    plt.imshow(image)\n",
    "\n",
    "out = widgets.interactive_output(_interact, {\"idx\": int_slider})\n",
    "display(ui, out)"
   ]
  },
  {
   "cell_type": "code",
   "execution_count": null,
   "metadata": {},
   "outputs": [],
   "source": [
    "# backup = pd.Series(smoke_labels)\n",
    "# array = np.array(smoke_labels)\n",
    "# np.unique(array, return_counts=True)\n",
    "#backup.to_csv('backup_labels1981')"
   ]
  }
 ],
 "metadata": {
  "kernelspec": {
   "display_name": "Python 3",
   "language": "python",
   "name": "python3"
  },
  "language_info": {
   "codemirror_mode": {
    "name": "ipython",
    "version": 3
   },
   "file_extension": ".py",
   "mimetype": "text/x-python",
   "name": "python",
   "nbconvert_exporter": "python",
   "pygments_lexer": "ipython3",
   "version": "3.7.5"
  }
 },
 "nbformat": 4,
 "nbformat_minor": 4
}
